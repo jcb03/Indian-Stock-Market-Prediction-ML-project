{
 "cells": [
  {
   "cell_type": "markdown",
   "id": "01a134a4",
   "metadata": {},
   "source": [
    "# MODEL TRAINING"
   ]
  },
  {
   "cell_type": "markdown",
   "id": "e38255f6",
   "metadata": {},
   "source": [
    "#### IMPORTING LIBRARIES AND ADDING BACKEND FOLDER TO PATH TO USE data_fetcher.py"
   ]
  },
  {
   "cell_type": "code",
   "execution_count": 1,
   "id": "37864a91",
   "metadata": {},
   "outputs": [
    {
     "name": "stdout",
     "output_type": "stream",
     "text": [
      "TensorFlow version: 2.16.1\n",
      "🚀 Starting Model Training with Upstox Data\n"
     ]
    }
   ],
   "source": [
    "# Import Libraries\n",
    "import sys\n",
    "import os\n",
    "\n",
    "# Add backend to path\n",
    "backend_path = os.path.abspath('../backend')\n",
    "if backend_path not in sys.path:\n",
    "    sys.path.append(backend_path)\n",
    "\n",
    "import pandas as pd\n",
    "import numpy as np\n",
    "import tensorflow as tf\n",
    "from sklearn.preprocessing import MinMaxScaler\n",
    "from sklearn.metrics import mean_squared_error, mean_absolute_error, r2_score\n",
    "import joblib\n",
    "import matplotlib.pyplot as plt\n",
    "\n",
    "print(f\"TensorFlow version: {tf.__version__}\")\n",
    "print(\"🚀 Starting Model Training with Upstox Data\")"
   ]
  },
  {
   "cell_type": "markdown",
   "id": "b3746078",
   "metadata": {},
   "source": [
    "#### INITIALIZE DATA FETCHER"
   ]
  },
  {
   "cell_type": "code",
   "execution_count": null,
   "id": "63590365",
   "metadata": {},
   "outputs": [],
   "source": []
  },
  {
   "cell_type": "markdown",
   "id": "4a08995f",
   "metadata": {},
   "source": [
    "#### FETCH REAL MARKET DATA"
   ]
  },
  {
   "cell_type": "code",
   "execution_count": null,
   "id": "9d592ca3",
   "metadata": {},
   "outputs": [],
   "source": []
  }
 ],
 "metadata": {
  "kernelspec": {
   "display_name": "pydowngrade",
   "language": "python",
   "name": "python3"
  },
  "language_info": {
   "codemirror_mode": {
    "name": "ipython",
    "version": 3
   },
   "file_extension": ".py",
   "mimetype": "text/x-python",
   "name": "python",
   "nbconvert_exporter": "python",
   "pygments_lexer": "ipython3",
   "version": "3.11.12"
  }
 },
 "nbformat": 4,
 "nbformat_minor": 5
}
