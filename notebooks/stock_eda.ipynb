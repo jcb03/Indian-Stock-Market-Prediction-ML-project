{
 "cells": [
  {
   "cell_type": "code",
   "execution_count": 32,
   "id": "44e1a1f3",
   "metadata": {},
   "outputs": [],
   "source": [
    "import sys\n",
    "import os"
   ]
  },
  {
   "cell_type": "code",
   "execution_count": 33,
   "id": "51cb89c7",
   "metadata": {},
   "outputs": [],
   "source": [
    "# Add backend to path\n",
    "backend_path = os.path.abspath('../backend')\n",
    "if backend_path not in sys.path:\n",
    "    sys.path.append(backend_path)"
   ]
  },
  {
   "cell_type": "code",
   "execution_count": 34,
   "id": "018196e0",
   "metadata": {},
   "outputs": [
    {
     "name": "stdout",
     "output_type": "stream",
     "text": [
      "['C:\\\\Users\\\\Narender\\\\AppData\\\\Roaming\\\\uv\\\\python\\\\cpython-3.12.10-windows-x86_64-none\\\\python312.zip', 'C:\\\\Users\\\\Narender\\\\AppData\\\\Roaming\\\\uv\\\\python\\\\cpython-3.12.10-windows-x86_64-none\\\\DLLs', 'C:\\\\Users\\\\Narender\\\\AppData\\\\Roaming\\\\uv\\\\python\\\\cpython-3.12.10-windows-x86_64-none\\\\Lib', 'C:\\\\Users\\\\Narender\\\\AppData\\\\Roaming\\\\uv\\\\python\\\\cpython-3.12.10-windows-x86_64-none', 'e:\\\\stock-prediction-platform\\\\.venv', '', 'e:\\\\stock-prediction-platform\\\\.venv\\\\Lib\\\\site-packages', 'e:\\\\stock-prediction-platform\\\\.venv\\\\Lib\\\\site-packages\\\\win32', 'e:\\\\stock-prediction-platform\\\\.venv\\\\Lib\\\\site-packages\\\\win32\\\\lib', 'e:\\\\stock-prediction-platform\\\\.venv\\\\Lib\\\\site-packages\\\\Pythonwin', '../backend', 'e:\\\\stock-prediction-platform\\\\backend']\n",
      "data_fetcher.py exists: True\n"
     ]
    }
   ],
   "source": [
    "# Now import from backend\n",
    "print(sys.path)  # Debug: check sys.path\n",
    "import os\n",
    "\n",
    "# Debug: check if data_fetcher.py exists in backend_path\n",
    "print(\"data_fetcher.py exists:\", os.path.exists(os.path.join(backend_path, \"data_fetcher.py\")))\n",
    "\n",
    "from data_fetcher import UpstoxDataFetcher"
   ]
  },
  {
   "cell_type": "code",
   "execution_count": 35,
   "id": "1d90b192",
   "metadata": {},
   "outputs": [
    {
     "name": "stdout",
     "output_type": "stream",
     "text": [
      "🚀 Starting Production EDA with Upstox Data\n"
     ]
    }
   ],
   "source": [
    "from data_fetcher import UpstoxDataFetcher\n",
    "\n",
    "import pandas as pd\n",
    "import numpy as np\n",
    "import matplotlib.pyplot as plt\n",
    "import seaborn as sns\n",
    "import plotly.graph_objects as go\n",
    "import plotly.express as px\n",
    "from plotly.subplots import make_subplots\n",
    "import warnings\n",
    "warnings.filterwarnings('ignore')\n",
    "\n",
    "plt.style.use('seaborn-v0_8')\n",
    "sns.set_palette(\"husl\")\n",
    "\n",
    "print(\"🚀 Starting Production EDA with Upstox Data\")"
   ]
  },
  {
   "cell_type": "code",
   "execution_count": 36,
   "id": "51c62a55",
   "metadata": {},
   "outputs": [
    {
     "name": "stdout",
     "output_type": "stream",
     "text": [
      "❌ Error initializing data fetcher: module 'upstox_client' has no attribute 'HistoryV3Api'\n"
     ]
    },
    {
     "ename": "AttributeError",
     "evalue": "module 'upstox_client' has no attribute 'HistoryV3Api'",
     "output_type": "error",
     "traceback": [
      "\u001b[31m---------------------------------------------------------------------------\u001b[39m",
      "\u001b[31mAttributeError\u001b[39m                            Traceback (most recent call last)",
      "\u001b[36mCell\u001b[39m\u001b[36m \u001b[39m\u001b[32mIn[36]\u001b[39m\u001b[32m, line 3\u001b[39m\n\u001b[32m      1\u001b[39m \u001b[38;5;66;03m# Cell 2: Initialize Data Fetcher\u001b[39;00m\n\u001b[32m      2\u001b[39m \u001b[38;5;28;01mtry\u001b[39;00m:\n\u001b[32m----> \u001b[39m\u001b[32m3\u001b[39m     fetcher = \u001b[43mUpstoxDataFetcher\u001b[49m\u001b[43m(\u001b[49m\u001b[43m)\u001b[49m\n\u001b[32m      4\u001b[39m     \u001b[38;5;28mprint\u001b[39m(\u001b[33mf\u001b[39m\u001b[33m\"\u001b[39m\u001b[33m✅ Upstox Data Fetcher initialized\u001b[39m\u001b[33m\"\u001b[39m)\n\u001b[32m      5\u001b[39m     \u001b[38;5;28mprint\u001b[39m(\u001b[33mf\u001b[39m\u001b[33m\"\u001b[39m\u001b[33m📊 Available symbols: \u001b[39m\u001b[38;5;132;01m{\u001b[39;00m\u001b[38;5;28mlen\u001b[39m(fetcher.get_available_symbols())\u001b[38;5;132;01m}\u001b[39;00m\u001b[33m\"\u001b[39m)\n",
      "\u001b[36mFile \u001b[39m\u001b[32me:\\stock-prediction-platform\\notebooks\\../backend\\data_fetcher.py:19\u001b[39m, in \u001b[36mUpstoxDataFetcher.__init__\u001b[39m\u001b[34m(self)\u001b[39m\n\u001b[32m     16\u001b[39m \u001b[38;5;28mself\u001b[39m.configuration.access_token = os.getenv(\u001b[33m'\u001b[39m\u001b[33mUPSTOX_ACCESS_TOKEN\u001b[39m\u001b[33m'\u001b[39m)\n\u001b[32m     17\u001b[39m \u001b[38;5;28mself\u001b[39m.configuration.sandbox = os.getenv(\u001b[33m'\u001b[39m\u001b[33mENVIRONMENT\u001b[39m\u001b[33m'\u001b[39m) == \u001b[33m'\u001b[39m\u001b[33msandbox\u001b[39m\u001b[33m'\u001b[39m\n\u001b[32m---> \u001b[39m\u001b[32m19\u001b[39m \u001b[38;5;28mself\u001b[39m.history_api = \u001b[43mupstox_client\u001b[49m\u001b[43m.\u001b[49m\u001b[43mHistoryV3Api\u001b[49m(upstox_client.ApiClient(\u001b[38;5;28mself\u001b[39m.configuration))\n\u001b[32m     20\u001b[39m \u001b[38;5;28mself\u001b[39m.market_api = upstox_client.MarketQuoteV3Api(upstox_client.ApiClient(\u001b[38;5;28mself\u001b[39m.configuration))\n\u001b[32m     22\u001b[39m \u001b[38;5;28mself\u001b[39m.nifty50_symbols = \u001b[38;5;28mself\u001b[39m._load_nifty50_symbols()\n",
      "\u001b[31mAttributeError\u001b[39m: module 'upstox_client' has no attribute 'HistoryV3Api'"
     ]
    }
   ],
   "source": [
    "# Cell 2: Initialize Data Fetcher\n",
    "try:\n",
    "    fetcher = UpstoxDataFetcher()\n",
    "    print(f\"✅ Upstox Data Fetcher initialized\")\n",
    "    print(f\"📊 Available symbols: {len(fetcher.get_available_symbols())}\")\n",
    "    print(f\"🕒 Market open: {fetcher.is_market_open()}\")\n",
    "except Exception as e:\n",
    "    print(f\"❌ Error initializing data fetcher: {e}\")\n",
    "    raise"
   ]
  }
 ],
 "metadata": {
  "kernelspec": {
   "display_name": ".venv",
   "language": "python",
   "name": "python3"
  },
  "language_info": {
   "codemirror_mode": {
    "name": "ipython",
    "version": 3
   },
   "file_extension": ".py",
   "mimetype": "text/x-python",
   "name": "python",
   "nbconvert_exporter": "python",
   "pygments_lexer": "ipython3",
   "version": "3.12.10"
  }
 },
 "nbformat": 4,
 "nbformat_minor": 5
}
