{
 "cells": [
  {
   "cell_type": "code",
   "execution_count": 2,
   "id": "44e1a1f3",
   "metadata": {},
   "outputs": [],
   "source": [
    "import sys\n",
    "import os"
   ]
  },
  {
   "cell_type": "code",
   "execution_count": 3,
   "id": "51cb89c7",
   "metadata": {},
   "outputs": [],
   "source": [
    "# Add backend to path\n",
    "backend_path = os.path.abspath('../backend')\n",
    "if backend_path not in sys.path:\n",
    "    sys.path.append(backend_path)"
   ]
  },
  {
   "cell_type": "code",
   "execution_count": 4,
   "id": "018196e0",
   "metadata": {},
   "outputs": [
    {
     "name": "stdout",
     "output_type": "stream",
     "text": [
      "['C:\\\\Users\\\\Narender\\\\AppData\\\\Roaming\\\\uv\\\\python\\\\cpython-3.12.10-windows-x86_64-none\\\\python312.zip', 'C:\\\\Users\\\\Narender\\\\AppData\\\\Roaming\\\\uv\\\\python\\\\cpython-3.12.10-windows-x86_64-none\\\\DLLs', 'C:\\\\Users\\\\Narender\\\\AppData\\\\Roaming\\\\uv\\\\python\\\\cpython-3.12.10-windows-x86_64-none\\\\Lib', 'C:\\\\Users\\\\Narender\\\\AppData\\\\Roaming\\\\uv\\\\python\\\\cpython-3.12.10-windows-x86_64-none', 'e:\\\\stock-prediction-platform\\\\.venv', '', 'e:\\\\stock-prediction-platform\\\\.venv\\\\Lib\\\\site-packages', 'e:\\\\stock-prediction-platform\\\\.venv\\\\Lib\\\\site-packages\\\\win32', 'e:\\\\stock-prediction-platform\\\\.venv\\\\Lib\\\\site-packages\\\\win32\\\\lib', 'e:\\\\stock-prediction-platform\\\\.venv\\\\Lib\\\\site-packages\\\\Pythonwin', '../backend', 'e:\\\\stock-prediction-platform\\\\backend']\n",
      "data_fetcher.py exists: True\n"
     ]
    }
   ],
   "source": [
    "# Now import from backend\n",
    "print(sys.path)  # Debug: check sys.path\n",
    "import os\n",
    "\n",
    "# Debug: check if data_fetcher.py exists in backend_path\n",
    "print(\"data_fetcher.py exists:\", os.path.exists(os.path.join(backend_path, \"data_fetcher.py\")))\n",
    "\n",
    "from data_fetcher import UpstoxDataFetcher"
   ]
  },
  {
   "cell_type": "code",
   "execution_count": 5,
   "id": "1b8c0498",
   "metadata": {},
   "outputs": [],
   "source": [
    "from data_fetcher import UpstoxDataFetcher"
   ]
  }
 ],
 "metadata": {
  "kernelspec": {
   "display_name": ".venv",
   "language": "python",
   "name": "python3"
  },
  "language_info": {
   "codemirror_mode": {
    "name": "ipython",
    "version": 3
   },
   "file_extension": ".py",
   "mimetype": "text/x-python",
   "name": "python",
   "nbconvert_exporter": "python",
   "pygments_lexer": "ipython3",
   "version": "3.12.10"
  }
 },
 "nbformat": 4,
 "nbformat_minor": 5
}
