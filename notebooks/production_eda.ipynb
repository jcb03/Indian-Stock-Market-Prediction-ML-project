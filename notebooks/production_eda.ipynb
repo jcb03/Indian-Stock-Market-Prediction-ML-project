{
 "cells": [
  {
   "cell_type": "code",
   "execution_count": 1,
   "id": "0678fa29",
   "metadata": {},
   "outputs": [],
   "source": [
    "import sys\n",
    "import os"
   ]
  },
  {
   "cell_type": "code",
   "execution_count": 2,
   "id": "90aa0e9f",
   "metadata": {},
   "outputs": [],
   "source": [
    "# Add backend to path\n",
    "backend_path = os.path.abspath('../backend')\n",
    "if backend_path not in sys.path:\n",
    "    sys.path.append(backend_path)"
   ]
  },
  {
   "cell_type": "code",
   "execution_count": 3,
   "id": "e649f272",
   "metadata": {},
   "outputs": [
    {
     "name": "stdout",
     "output_type": "stream",
     "text": [
      "🚀 Starting Production EDA with Upstox Data\n"
     ]
    }
   ],
   "source": [
    "# Now import from backend\n",
    "from data_fetcher import UpstoxDataFetcher\n",
    "\n",
    "import pandas as pd\n",
    "import numpy as np\n",
    "import matplotlib.pyplot as plt\n",
    "import seaborn as sns\n",
    "import plotly.graph_objects as go\n",
    "import plotly.express as px\n",
    "from plotly.subplots import make_subplots\n",
    "import warnings\n",
    "warnings.filterwarnings('ignore')\n",
    "\n",
    "plt.style.use('seaborn-v0_8')\n",
    "sns.set_palette(\"husl\")\n",
    "\n",
    "print(\"🚀 Starting Production EDA with Upstox Data\")"
   ]
  },
  {
   "cell_type": "code",
   "execution_count": 4,
   "id": "94921329",
   "metadata": {},
   "outputs": [
    {
     "name": "stderr",
     "output_type": "stream",
     "text": [
      "INFO:data_fetcher:Initialized Upstox Data Fetcher with 50 instruments\n"
     ]
    },
    {
     "name": "stdout",
     "output_type": "stream",
     "text": [
      "✅ Upstox Data Fetcher initialized\n",
      "📊 Available symbols: 50\n",
      "🕒 Market open: False\n"
     ]
    }
   ],
   "source": [
    "try:\n",
    "    fetcher = UpstoxDataFetcher()\n",
    "    print(f\"✅ Upstox Data Fetcher initialized\")\n",
    "    print(f\"📊 Available symbols: {len(fetcher.get_available_symbols())}\")\n",
    "    print(f\"🕒 Market open: {fetcher.is_market_open()}\")\n",
    "except Exception as e:\n",
    "    print(f\"❌ Error initializing data fetcher: {e}\")\n",
    "    raise"
   ]
  }
 ],
 "metadata": {
  "kernelspec": {
   "display_name": ".venv",
   "language": "python",
   "name": "python3"
  },
  "language_info": {
   "codemirror_mode": {
    "name": "ipython",
    "version": 3
   },
   "file_extension": ".py",
   "mimetype": "text/x-python",
   "name": "python",
   "nbconvert_exporter": "python",
   "pygments_lexer": "ipython3",
   "version": "3.12.10"
  }
 },
 "nbformat": 4,
 "nbformat_minor": 5
}
